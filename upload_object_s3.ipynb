{
 "cells": [
  {
   "cell_type": "code",
   "execution_count": null,
   "id": "be0945dd-9dcb-4914-bfa3-d4bd1092fcf9",
   "metadata": {},
   "outputs": [],
   "source": [
    "import boto3\n",
    "\n",
    "# Initialize the S3 client\n",
    "s3 = boto3.client('s3')\n",
    "\n",
    "# Define your variables\n",
    "bucket_name = 'my-example-bucket'\n",
    "file_path = 'path/to/your/file.txt'\n",
    "object_name = 'uploaded-file.txt'\n",
    "\n",
    "# Upload the file\n",
    "s3.upload_file(file_path, bucket_name, object_name)"
   ]
  }
 ],
 "metadata": {
  "kernelspec": {
   "display_name": "Python 3 (ipykernel)",
   "language": "python",
   "name": "python3"
  },
  "language_info": {
   "codemirror_mode": {
    "name": "ipython",
    "version": 3
   },
   "file_extension": ".py",
   "mimetype": "text/x-python",
   "name": "python",
   "nbconvert_exporter": "python",
   "pygments_lexer": "ipython3",
   "version": "3.12.4"
  }
 },
 "nbformat": 4,
 "nbformat_minor": 5
}
