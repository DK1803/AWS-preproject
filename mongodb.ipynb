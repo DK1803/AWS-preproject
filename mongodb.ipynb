{
 "cells": [
  {
   "cell_type": "code",
   "execution_count": null,
   "id": "13629a48-8547-4b0a-bc3a-14dfc684d959",
   "metadata": {},
   "outputs": [],
   "source": [
    "'''\n",
    "1. Set Up AWS DocumentDB\n",
    "2. Create an IAM Role for Lambda\n",
    "3. Create a Lambda Function\n",
    "4. Install MongoDB Library in Lambda5. Configure VPC Settings for Lambda\n",
    "\n",
    "'''\n",
    "import json\n",
    "import pymongo\n",
    "from pymongo import MongoClient\n",
    "\n",
    "def lambda_handler(event, context):\n",
    "    # Replace with your DocumentDB cluster endpoint\n",
    "    uri = \"mongodb://<username>:<password>@<docdb-cluster-endpoint>:27017/?ssl=true&replicaSet=rs0&readPreference=secondaryPreferred&retryWrites=false\"\n",
    "\n",
    "    client = MongoClient(uri)\n",
    "\n",
    "    db = client[\"your_database_name\"]\n",
    "    collection = db[\"your_collection_name\"]\n",
    "\n",
    "    # Example operation: Insert a document\n",
    "    document = {\"name\": \"John Doe\", \"age\": 30}\n",
    "    collection.insert_one(document)\n",
    "\n",
    "    return {\n",
    "        'statusCode': 200,\n",
    "        'body': json.dumps('Document inserted successfully')\n",
    "    }\n",
    "'''\n",
    "Testing the Setup\n",
    "\n",
    "    Invoke the Lambda Function:\n",
    "        You can test the Lambda function by invoking it directly from the Lambda console or using the AWS CLI.\n",
    "        Check the CloudWatch logs for the Lambda function to see the output and any potential errors.\n",
    "\n",
    "    Verify Database Operations:\n",
    "        Connect to your DocumentDB cluster using a MongoDB client.\n",
    "        Verify that the operations (e.g., document insertion) performed by the Lambda function were successful.\n",
    "        '''"
   ]
  }
 ],
 "metadata": {
  "kernelspec": {
   "display_name": "Python 3 (ipykernel)",
   "language": "python",
   "name": "python3"
  },
  "language_info": {
   "codemirror_mode": {
    "name": "ipython",
    "version": 3
   },
   "file_extension": ".py",
   "mimetype": "text/x-python",
   "name": "python",
   "nbconvert_exporter": "python",
   "pygments_lexer": "ipython3",
   "version": "3.12.4"
  }
 },
 "nbformat": 4,
 "nbformat_minor": 5
}
