{
 "cells": [
  {
   "cell_type": "code",
   "execution_count": null,
   "id": "8c2041ad-a1c0-4237-9744-477488c9ac13",
   "metadata": {},
   "outputs": [],
   "source": [
    "import boto3\n",
    "from botocore.exceptions import NoCredentialsError, PartialCredentialsError\n",
    "\t\n",
    "# Configure AWS credentials\n",
    "aws_access_key = 'AKIAXYKJUN7NVZM74'\n",
    "aws_secret_key = '2pGhWUopgy7o22uekORV3MU3Xj+M4kvt6zECz'\n",
    "region_name = 'ap-south-1'  \n",
    "\n",
    "def launch_ec2_instance():\n",
    "    try:\n",
    "        # Create a session using the provided AWS credentials\n",
    "        session = boto3.Session(\n",
    "            aws_access_key_id=aws_access_key,\n",
    "            aws_secret_access_key=aws_secret_key,\n",
    "            region_name=region_name\n",
    "        )\n",
    "\n",
    "        # Get the EC2 resource\n",
    "        ec2_resource = session.resource('ec2')\n",
    "\n",
    "        # Launch an EC2 instance\n",
    "        instances = ec2_resource.create_instances(\n",
    "            ImageId='ami-022c86f32958af5fa', \n",
    "            MinCount=1,\n",
    "            MaxCount=1,\n",
    "            InstanceType='t2.micro',  \n",
    "            TagSpecifications=[\n",
    "                {\n",
    "                    'ResourceType': 'instance',\n",
    "                    'Tags': [\n",
    "                        {\n",
    "                            'Key': 'Name',\n",
    "                            'Value': 'dkbaba'  \n",
    "                        }\n",
    "                    ]\n",
    "                }\n",
    "            ]\n",
    "        )\n",
    "\n",
    "        for instance in instances:\n",
    "            print(f'Instance {instance.id} is launched and named dkbaba')\n",
    "            \n",
    "    except NoCredentialsError:\n",
    "        print('Credentials not available.')\n",
    "    except PartialCredentialsError:\n",
    "        print('Incomplete credentials provided.')\n",
    "    except Exception as e:\n",
    "        print(f'An error occurred: {e}')\n",
    "\n",
    "if __name__ == \"__main__\":\n",
    "    launch_ec2_instance()\n"
   ]
  }
 ],
 "metadata": {
  "kernelspec": {
   "display_name": "Python 3 (ipykernel)",
   "language": "python",
   "name": "python3"
  },
  "language_info": {
   "codemirror_mode": {
    "name": "ipython",
    "version": 3
   },
   "file_extension": ".py",
   "mimetype": "text/x-python",
   "name": "python",
   "nbconvert_exporter": "python",
   "pygments_lexer": "ipython3",
   "version": "3.12.4"
  }
 },
 "nbformat": 4,
 "nbformat_minor": 5
}
